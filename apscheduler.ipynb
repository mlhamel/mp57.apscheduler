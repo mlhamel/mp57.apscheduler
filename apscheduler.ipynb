{
 "cells": [
  {
   "cell_type": "markdown",
   "metadata": {
    "slideshow": {
     "slide_type": "slide"
    }
   },
   "source": [
    "**Montréal-Python 57: POTM (Project of the Month)**\n",
    "\n",
    "APScheduler: Advanced Python Scheduler\n",
    "\n",
    "\n",
    "Monday April 14th 2016\n",
    "\n",
    "\n"
   ]
  },
  {
   "cell_type": "markdown",
   "metadata": {
    "slideshow": {
     "slide_type": "subslide"
    }
   },
   "source": [
    "**What is APScheduler**\n",
    "\n",
    "APScheduler is a task scheduling and management system written in Python.\n",
    "\n",
    "Think of it as a cron/at daemon running inside your application is not far off, but APScheduler also provides management and monitoring of jobs, and much more.\n"
   ]
  },
  {
   "cell_type": "markdown",
   "metadata": {
    "slideshow": {
     "slide_type": "subslide"
    }
   },
   "source": [
    "**The author**\n",
    "\n",
    "Alex Grönholm, the main author of APScheduler. is self employed as a contractor. \n",
    "\n",
    "He is living in Finland."
   ]
  },
  {
   "cell_type": "markdown",
   "metadata": {
    "slideshow": {
     "slide_type": "subslide"
    }
   },
   "source": [
    "** Why **\n",
    "\n",
    "Alex built APScheduler while he was working on a Java project which was relying on Quartz (https://quartz-scheduler.org/) \n",
    "\n",
    "<img width=\"400px\" src=\"https://raw.githubusercontent.com/mlhamel/mp57.apscheduler/master/6018_3568.jpeg\" />\n",
    "\n",
    "He wanted to migrate everything to Python, but the only scheduling alternative on Python was Celery"
   ]
  },
  {
   "cell_type": "markdown",
   "metadata": {
    "slideshow": {
     "slide_type": "subslide"
    }
   },
   "source": [
    "<img width=\"400px\" src=\"https://raw.githubusercontent.com/mlhamel/mp57.apscheduler/master/celery2.jpeg\">\n",
    "\n",
    "\n"
   ]
  },
  {
   "cell_type": "markdown",
   "metadata": {
    "slideshow": {
     "slide_type": "subslide"
    }
   },
   "source": [
    "Celery is a distributed task queue with basic scheduling capabilities, while APScheduler is a full featured scheduler with basic task queuing capabilities. \n",
    "\n",
    "APScheduler tend to be easier to setup and to integrate with an existing solution.\n",
    "\n"
   ]
  },
  {
   "cell_type": "markdown",
   "metadata": {
    "slideshow": {
     "slide_type": "slide"
    }
   },
   "source": [
    "**How to Install**\n",
    "\n",
    "``` bash\n",
    "$ pip install apscheduler\n",
    "```"
   ]
  },
  {
   "cell_type": "markdown",
   "metadata": {
    "slideshow": {
     "slide_type": "slide"
    }
   },
   "source": [
    "**How does it work**"
   ]
  },
  {
   "cell_type": "markdown",
   "metadata": {
    "slideshow": {
     "slide_type": "subslide"
    }
   },
   "source": [
    "**Interval**"
   ]
  },
  {
   "cell_type": "code",
   "execution_count": 4,
   "metadata": {
    "collapsed": false,
    "slideshow": {
     "slide_type": "subslide"
    }
   },
   "outputs": [],
   "source": [
    "from apscheduler.schedulers.background import BackgroundScheduler\n",
    "\n",
    "def myfunc():\n",
    "    pass\n",
    "\n",
    "def myfunc2():\n",
    "    pass\n",
    "\n",
    "scheduler = BackgroundScheduler()\n",
    "scheduler.add_job(myfunc, 'interval', minutes=2, id='my_job_id')"
   ]
  },
  {
   "cell_type": "markdown",
   "metadata": {
    "slideshow": {
     "slide_type": "subslide"
    }
   },
   "source": [
    "**Cron-like**"
   ]
  },
  {
   "cell_type": "code",
   "execution_count": null,
   "metadata": {
    "collapsed": true,
    "slideshow": {
     "slide_type": "subslide"
    }
   },
   "outputs": [],
   "source": [
    "scheduler.add_job(myfunc, trigger='cron', minute='*', second=\"*/5\")\n",
    "scheduler.add_job(myfunc2, trigger='cron', day_of_week=\"2\")\n",
    "scheduler.add_job(myfunc2, trigger='cron', day_of_week=\"sat,sun\")\n",
    "\n",
    "# More informations at http://apscheduler.readthedocs.org/en/latest/modules/triggers/cron.html?highlight=cron"
   ]
  },
  {
   "cell_type": "markdown",
   "metadata": {
    "slideshow": {
     "slide_type": "subslide"
    }
   },
   "source": [
    "**Date-based**"
   ]
  },
  {
   "cell_type": "code",
   "execution_count": null,
   "metadata": {
    "collapsed": true,
    "slideshow": {
     "slide_type": "subslide"
    }
   },
   "outputs": [],
   "source": [
    "sched.add_job(myfunc, 'date', run_date=date(2009, 11, 6), args=['text'])"
   ]
  },
  {
   "cell_type": "markdown",
   "metadata": {
    "slideshow": {
     "slide_type": "slide"
    }
   },
   "source": [
    "**Thread and Process Pool**\n",
    "\n",
    "APScheduler could also be used to run long running task in the background"
   ]
  },
  {
   "cell_type": "code",
   "execution_count": 7,
   "metadata": {
    "collapsed": false,
    "slideshow": {
     "slide_type": "subslide"
    }
   },
   "outputs": [],
   "source": [
    "from pytz import utc\n",
    "from apscheduler.executors.pool import ProcessPoolExecutor\n",
    "from apscheduler.schedulers.background import BackgroundScheduler\n",
    "\n",
    "executors = {\n",
    "    'default': {'type': 'threadpool', 'max_workers': 20},\n",
    "    'processpool': ProcessPoolExecutor(max_workers=5)\n",
    "}\n",
    "job_defaults = {\n",
    "    'coalesce': False,\n",
    "    'max_instances': 3\n",
    "}\n",
    "\n",
    "def my_producer_job():\n",
    "    while True:\n",
    "        pass # produce stuff and save it the database\n",
    "        \n",
    "def my_consumer_job():\n",
    "    pass # read from the database\n",
    "        \n",
    "                \n",
    "scheduler = BackgroundScheduler()\n",
    "\n",
    "producer = scheduler.add_job(my_producer_job, name=\"producer\", executor=\"default\")\n",
    "consumer = scheduler.add_job(my_consumer_job, name=\"consumer\", executor=\"processpool\")\n",
    "\n",
    "scheduler.configure(executors=executors, job_defaults=job_defaults, timezone=utc)\n",
    "\n",
    "scheduler.start()"
   ]
  },
  {
   "cell_type": "markdown",
   "metadata": {
    "slideshow": {
     "slide_type": "slide"
    }
   },
   "source": [
    "**Advanced functionalities**"
   ]
  },
  {
   "cell_type": "code",
   "execution_count": 10,
   "metadata": {
    "collapsed": false,
    "slideshow": {
     "slide_type": "subslide"
    }
   },
   "outputs": [],
   "source": [
    "# event listener\n",
    "from apscheduler.events import EVENT_JOB_EXECUTED, EVENT_JOB_ERROR\n",
    "\n",
    "def my_listener(event):\n",
    "    if event.exception:\n",
    "        print('The job crashed :(')\n",
    "    else:\n",
    "        print('The job worked :)')\n",
    "\n",
    "scheduler.add_listener(my_listener, EVENT_JOB_EXECUTED | EVENT_JOB_ERROR)"
   ]
  },
  {
   "cell_type": "code",
   "execution_count": 16,
   "metadata": {
    "collapsed": false,
    "slideshow": {
     "slide_type": "subslide"
    }
   },
   "outputs": [],
   "source": [
    "# custom trigger\n",
    "\n",
    "import random\n",
    "\n",
    "from apscheduler.triggers.base import BaseTrigger\n",
    "\n",
    "def myfunc():\n",
    "    pass\n",
    "\n",
    "\n",
    "class MyTrigger(BaseTrigger):\n",
    "    def get_next_fire_time(self, previous_fire_time, now):\n",
    "        if previous_fire_time is None:\n",
    "            return\n",
    "        random_value = random.randint(1, 10)\n",
    "        if (now - previous_fire_time).seconds > random_value:\n",
    "            return datetime.datetime(now.replace(minute=random_value))\n",
    "        \n",
    "        \n",
    "trigger = MyTrigger()\n",
    "\n",
    "job = scheduler.add_job(myfunc, MyTrigger(), id=\"my_job_id\")"
   ]
  },
  {
   "cell_type": "code",
   "execution_count": 17,
   "metadata": {
    "collapsed": true,
    "slideshow": {
     "slide_type": "subslide"
    }
   },
   "outputs": [],
   "source": [
    "# Limiting the number of concurrently executing instances\n",
    "\n",
    "job.modify(max_instances=6)"
   ]
  },
  {
   "cell_type": "code",
   "execution_count": null,
   "metadata": {
    "collapsed": true,
    "slideshow": {
     "slide_type": "subslide"
    }
   },
   "outputs": [],
   "source": [
    "# reschedule an existing job\n",
    "\n",
    "scheduler.reschedule_job('my_job_id', trigger='cron', minute='*/5')"
   ]
  },
  {
   "cell_type": "code",
   "execution_count": null,
   "metadata": {
    "collapsed": false,
    "slideshow": {
     "slide_type": "subslide"
    }
   },
   "outputs": [],
   "source": [
    "# to get all the running jobs\n",
    "\n",
    "scheduler.get_jobs()"
   ]
  },
  {
   "cell_type": "code",
   "execution_count": null,
   "metadata": {
    "collapsed": true,
    "slideshow": {
     "slide_type": "subslide"
    }
   },
   "outputs": [],
   "source": [
    "# shuting down the scheduler\n",
    "\n",
    "scheduler.shutdown()\n",
    "\n",
    "# or more violently\n",
    "\n",
    "scheduler.shutdown(wait=False)"
   ]
  },
  {
   "cell_type": "markdown",
   "metadata": {
    "slideshow": {
     "slide_type": "slide"
    }
   },
   "source": [
    "**Jobstores**\n",
    "\n",
    "By default, the memory jobstore is used but you can always choose a different one like."
   ]
  },
  {
   "cell_type": "code",
   "execution_count": null,
   "metadata": {
    "collapsed": true,
    "slideshow": {
     "slide_type": "subslide"
    }
   },
   "outputs": [],
   "source": [
    "from datetime import datetime, timedelta\n",
    "\n",
    "from apscheduler.schedulers.blocking import BlockingScheduler\n",
    "\n",
    "def alarm(time):\n",
    "    print('Alarm! This alarm was scheduled at %s.' % time)\n",
    "    \n",
    "scheduler = BlockingScheduler()\n",
    "scheduler.add_jobstore('sqlalchemy', url='sqlite:///example.sqlite')\n",
    "\n",
    "scheduler.add_job(alarm, 'date', run_date=alarm_time, args=[datetime.now()])\n",
    "scheduler.start()"
   ]
  },
  {
   "cell_type": "markdown",
   "metadata": {
    "slideshow": {
     "slide_type": "subslide"
    }
   },
   "source": [
    "``` sql\n",
    "CREATE TABLE apscheduler_jobs (\n",
    "\tid VARCHAR(191) NOT NULL,\n",
    "\tnext_run_time FLOAT,\n",
    "\tjob_state BLOB NOT NULL,\n",
    "\tPRIMARY KEY (id)\n",
    ");\n",
    "\n",
    "CREATE INDEX ix_apscheduler_jobs_next_run_time \n",
    "ON apscheduler_jobs(next_run_time);\n",
    "```"
   ]
  },
  {
   "cell_type": "markdown",
   "metadata": {
    "slideshow": {
     "slide_type": "slide"
    }
   },
   "source": [
    "**Thanks**\n",
    "\n",
    "Mathieu Leduc-Hamel<br/>\n",
    "@mlhamel<br/>\n",
    "mathieu@montrealpython.org<br/>\n",
    "mathieu.lh@shopify.com<br/>\n",
    "\n",
    "More informations about APScheduler and sources of this presentation:\n",
    "\n",
    "* https://github.com/mlhamel/mp57.apscheduler\n",
    "* https://apscheduler.readthedocs.org/en/latest/\n",
    "* https://github.com/agronholm/apscheduler\n",
    "* https://github.com/asphalt-framework/asphalt"
   ]
  }
 ],
 "metadata": {
  "celltoolbar": "Slideshow",
  "kernelspec": {
   "display_name": "Python 3",
   "language": "python",
   "name": "python3"
  },
  "language_info": {
   "codemirror_mode": {
    "name": "ipython",
    "version": 3
   },
   "file_extension": ".py",
   "mimetype": "text/x-python",
   "name": "python",
   "nbconvert_exporter": "python",
   "pygments_lexer": "ipython3",
   "version": "3.5.1"
  }
 },
 "nbformat": 4,
 "nbformat_minor": 0
}
