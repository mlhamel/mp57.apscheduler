{
 "cells": [
  {
   "cell_type": "markdown",
   "metadata": {
    "slideshow": {
     "slide_type": "slide"
    }
   },
   "source": [
    "**Overview**"
   ]
  },
  {
   "cell_type": "markdown",
   "metadata": {
    "slideshow": {
     "slide_type": "subslide"
    }
   },
   "source": [
    "APScheduler is a task scheduling and management system written in Python.\n",
    "\n",
    "Thinking of it as a cron/at daemon running inside your application is not far off, but APScheduler also provides management and monitoring of jobs, and much more.\n"
   ]
  },
  {
   "cell_type": "markdown",
   "metadata": {
    "slideshow": {
     "slide_type": "notes"
    }
   },
   "source": [
    "\n",
    "```\n",
    "<agronholm> well, because I had a Java project that relied on Quartz and the only scheduling alternative on Python was Celery\n",
    "<agronholm> I was porting my code over to Python\n",
    "<agronholm> and Celery was way overkill\n",
    "...\n",
    "<agronholm> my intention is to create a new job queueing/scheduling component for my Asphalt framework\n",
    "<agronholm> when done I expect it to be superior to celery in every way\n",
    "    ...\n",
    "<agronholm> asphalt is an asyncio based framework where you can mix async and blocking code\n",
    "```\n",
    "\n",
    "**Interesting points**\n",
    "\n",
    "    * Event listener"
   ]
  },
  {
   "cell_type": "markdown",
   "metadata": {
    "slideshow": {
     "slide_type": "subslide"
    }
   },
   "source": [
    "**The author**\n",
    "\n",
    "Alex Grönholm, the main author of APScheduler is self employed as a contractor. \n",
    "\n",
    "He is living in Finland.\n",
    "\n",
    "He developed APScheduler while he working on a Java project which relied on Quartz. \n",
    "\n",
    "He wanted to migrate everything to Python, but the only scheduling alternative on Python was Celery"
   ]
  },
  {
   "cell_type": "markdown",
   "metadata": {
    "slideshow": {
     "slide_type": "subslide"
    }
   },
   "source": [
    "**What about Celery**\n",
    "\n",
    "Celery is a distributed task queue with basic scheduling capabilities, while APScheduler is a full featured scheduler with basic task queuing capabilities. \n",
    "\n",
    "APScheduler tend to be easier to setup and to integrate with an existing solution."
   ]
  },
  {
   "cell_type": "markdown",
   "metadata": {
    "slideshow": {
     "slide_type": "slide"
    }
   },
   "source": [
    "**How to Install**"
   ]
  },
  {
   "cell_type": "markdown",
   "metadata": {
    "slideshow": {
     "slide_type": "subslide"
    }
   },
   "source": [
    "$ pip install apscheduler"
   ]
  },
  {
   "cell_type": "markdown",
   "metadata": {
    "slideshow": {
     "slide_type": "slide"
    }
   },
   "source": [
    "**How does it work**\n",
    "\n",
    "You define a series of jobs and the rules about when they should run"
   ]
  },
  {
   "cell_type": "markdown",
   "metadata": {
    "slideshow": {
     "slide_type": "subslide"
    }
   },
   "source": [
    "**Interval**"
   ]
  },
  {
   "cell_type": "code",
   "execution_count": 4,
   "metadata": {
    "collapsed": false,
    "slideshow": {
     "slide_type": "subslide"
    }
   },
   "outputs": [],
   "source": [
    "from apscheduler.schedulers.background import BackgroundScheduler\n",
    "\n",
    "def myfunc():\n",
    "    pass\n",
    "\n",
    "def myfunc2():\n",
    "    pass\n",
    "\n",
    "scheduler = BackgroundScheduler()\n",
    "scheduler.add_job(myfunc, 'interval', minutes=2, id='my_job_id')"
   ]
  },
  {
   "cell_type": "markdown",
   "metadata": {
    "slideshow": {
     "slide_type": "subslide"
    }
   },
   "source": [
    "**Cron-like**"
   ]
  },
  {
   "cell_type": "code",
   "execution_count": null,
   "metadata": {
    "collapsed": true,
    "slideshow": {
     "slide_type": "subslide"
    }
   },
   "outputs": [],
   "source": [
    "scheduler.add_job(myfunc, trigger='cron', minute='*', second=\"*/5\")\n",
    "scheduler.add_job(myfunc2, trigger='cron', day_of_week=\"2\")\n",
    "scheduler.add_job(myfunc2, trigger='cron', day_of_week=\"sat,sun\")\n",
    "\n",
    "# More informations at http://apscheduler.readthedocs.org/en/latest/modules/triggers/cron.html?highlight=cron"
   ]
  },
  {
   "cell_type": "markdown",
   "metadata": {
    "slideshow": {
     "slide_type": "subslide"
    }
   },
   "source": [
    "**Date-based**"
   ]
  },
  {
   "cell_type": "code",
   "execution_count": null,
   "metadata": {
    "collapsed": true,
    "slideshow": {
     "slide_type": "subslide"
    }
   },
   "outputs": [],
   "source": [
    "sched.add_job(myfunc, 'date', run_date=date(2009, 11, 6), args=['text'])"
   ]
  },
  {
   "cell_type": "markdown",
   "metadata": {
    "slideshow": {
     "slide_type": "slide"
    }
   },
   "source": [
    "**Thread and Process Pool**\n",
    "\n",
    "APScheduler could also be used to run long running task in the background"
   ]
  },
  {
   "cell_type": "code",
   "execution_count": null,
   "metadata": {
    "collapsed": true,
    "slideshow": {
     "slide_type": "subslide"
    }
   },
   "outputs": [],
   "source": [
    "from apscheduler.executors.pool import ProcessPoolExecutor\n",
    "from apscheduler.schedulers.background import BackgroundScheduler\n",
    "\n",
    "executors = {\n",
    "    'default': {'type': 'threadpool', 'max_workers': 20},\n",
    "    'processpool': ProcessPoolExecutor(max_workers=5)\n",
    "}\n",
    "job_defaults = {\n",
    "    'coalesce': False,\n",
    "    'max_instances': 3\n",
    "}\n",
    "\n",
    "def my_producer_job():\n",
    "    while True:\n",
    "        # produce stuff and save it the database\n",
    "        \n",
    "def my_consumer_job():\n",
    "    # read from the database\n",
    "        \n",
    "                \n",
    "scheduler = BackgroundScheduler()\n",
    "\n",
    "producer = scheduler.add_job(my_producer_job, name=\"producer\", executor=\"default\")\n",
    "consumer = scheduler.add_job(my_consumer_job, name=\"consumer\", executor=\"processpool\")\n",
    "\n",
    "scheduler.configure(executors=executors, job_defaults=job_defaults, timezone=utc)\n",
    "\n",
    "scheduler.start()"
   ]
  },
  {
   "cell_type": "markdown",
   "metadata": {
    "slideshow": {
     "slide_type": "slide"
    }
   },
   "source": [
    "**Advanced functionalities**"
   ]
  },
  {
   "cell_type": "code",
   "execution_count": null,
   "metadata": {
    "collapsed": true,
    "slideshow": {
     "slide_type": "subslide"
    }
   },
   "outputs": [],
   "source": [
    "# event listener\n",
    "\n",
    "def my_listener(event):\n",
    "    if event.exception:\n",
    "        print('The job crashed :(')\n",
    "    else:\n",
    "        print('The job worked :)')\n",
    "\n",
    "scheduler.add_listener(my_listener, EVENT_JOB_EXECUTED | EVENT_JOB_ERROR)"
   ]
  },
  {
   "cell_type": "code",
   "execution_count": 8,
   "metadata": {
    "collapsed": false,
    "slideshow": {
     "slide_type": "subslide"
    }
   },
   "outputs": [
    {
     "data": {
      "text/plain": [
       "<Job (id=f1896b045c2e4e198c3ad5fd34a9fb5e name=myfunc)>"
      ]
     },
     "execution_count": 8,
     "metadata": {},
     "output_type": "execute_result"
    }
   ],
   "source": [
    "# custom trigger\n",
    "\n",
    "import random\n",
    "\n",
    "from apscheduler.triggers.base import BaseTrigger\n",
    "\n",
    "class MyTrigger(BaseTrigger):\n",
    "    def get_next_fire_time(self, previous_fire_time, now):\n",
    "        random_value = random.randint(1, 10)\n",
    "        if (now - previous_fire_time).seconds > random_value:\n",
    "            return datetime.datetime(now.replace(minute=random_value))\n",
    "trigger = MyTrigger()\n",
    "job = scheduler.add_job(myfunc, trigger, id=\"my_job_id\")"
   ]
  },
  {
   "cell_type": "code",
   "execution_count": null,
   "metadata": {
    "collapsed": true,
    "slideshow": {
     "slide_type": "subslide"
    }
   },
   "outputs": [],
   "source": [
    "# Limiting the number of concurrently executing instances\n",
    "\n",
    "job.modify(max_instances=6)"
   ]
  },
  {
   "cell_type": "code",
   "execution_count": null,
   "metadata": {
    "collapsed": true,
    "slideshow": {
     "slide_type": "subslide"
    }
   },
   "outputs": [],
   "source": [
    "# reschedule an existing job\n",
    "\n",
    "scheduler.reschedule_job('my_job_id', trigger='cron', minute='*/5')"
   ]
  },
  {
   "cell_type": "code",
   "execution_count": null,
   "metadata": {
    "collapsed": true,
    "slideshow": {
     "slide_type": "subslide"
    }
   },
   "outputs": [],
   "source": [
    "# shuting down the scheduler\n",
    "\n",
    "scheduler.shutdown()\n",
    "\n",
    "# or more violently\n",
    "\n",
    "scheduler.shutdown(wait=False)"
   ]
  }
 ],
 "metadata": {
  "celltoolbar": "Slideshow",
  "kernelspec": {
   "display_name": "Python 3",
   "language": "python",
   "name": "python3"
  },
  "language_info": {
   "codemirror_mode": {
    "name": "ipython",
    "version": 3
   },
   "file_extension": ".py",
   "mimetype": "text/x-python",
   "name": "python",
   "nbconvert_exporter": "python",
   "pygments_lexer": "ipython3",
   "version": "3.4.3"
  }
 },
 "nbformat": 4,
 "nbformat_minor": 0
}
